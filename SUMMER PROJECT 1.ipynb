{
 "cells": [
  {
   "cell_type": "code",
   "execution_count": 5,
   "id": "4d5c203f",
   "metadata": {},
   "outputs": [],
   "source": [
    "from gurobipy import *\n",
    "\n",
    "milp_model = Model(\"milp\")"
   ]
  },
  {
   "cell_type": "code",
   "execution_count": 6,
   "id": "f5018fb1",
   "metadata": {},
   "outputs": [
    {
     "name": "stdout",
     "output_type": "stream",
     "text": [
      "Gurobi Optimizer version 10.0.2 build v10.0.2rc0 (win64)\n",
      "\n",
      "CPU model: AMD Ryzen 5 3550H with Radeon Vega Mobile Gfx, instruction set [SSE2|AVX|AVX2]\n",
      "Thread count: 4 physical cores, 8 logical processors, using up to 8 threads\n",
      "\n",
      "Optimize a model with 4 rows, 3 columns and 4 nonzeros\n",
      "Model fingerprint: 0x276bf734\n",
      "Coefficient statistics:\n",
      "  Matrix range     [1e+00, 3e+00]\n",
      "  Objective range  [2e+00, 3e+00]\n",
      "  Bounds range     [0e+00, 0e+00]\n",
      "  RHS range        [3e+00, 6e+00]\n",
      "Presolve removed 4 rows and 3 columns\n",
      "Presolve time: 0.02s\n",
      "Presolve: All rows and columns removed\n",
      "Iteration    Objective       Primal Inf.    Dual Inf.      Time\n",
      "       0    2.6666667e+00   0.000000e+00   0.000000e+00      0s\n",
      "\n",
      "Solved in 0 iterations and 0.05 seconds (0.00 work units)\n",
      "Optimal objective  2.666666667e+00\n"
     ]
    }
   ],
   "source": [
    "# GIVING PARAMETER VALUES\n",
    "import numpy as np\n",
    "from numpy import random\n",
    "    \n",
    "b = random.randint(1,10, (4,1))\n",
    "    \n",
    "d = random.randint(1,10, (4,1))\n",
    "\n",
    "while (np.sum(b)) < (np.sum(d)):\n",
    "    b = random.randint(1,10, (4,1))\n",
    "    d = random.randint(1,10, (4,1))\n",
    "    if (np.sum(b)) >= (np.sum(d)):\n",
    "            break\n",
    "I=[]\n",
    "J=[]\n",
    "for m in range(4):\n",
    "    if b[m][0]>d[m][0]:\n",
    "        I.append(m)\n",
    "    elif b[m][0]<d[m][0]:\n",
    "        J.append(m)\n",
    "\n",
    "C = random.randint(1,5,(4,4))\n",
    "        \n",
    "# DECISION VARIABLE\n",
    "\n",
    "obj_fn = 0\n",
    "for i in I:\n",
    "    for j in J:\n",
    "        xij = milp_model.addVar(vtype=GRB.CONTINUOUS, lb=0, )\n",
    "        obj_fn += (C[i][j]*xij)\n",
    "        \n",
    "milp_model.setObjective(obj_fn, GRB.MINIMIZE)\n",
    "    \n",
    "# CONSTRAINTS  \n",
    "for i in I:\n",
    "    A=0\n",
    "    for j in J:\n",
    "        A += xij\n",
    "    ci = milp_model.addConstr(A <= b[i][0]-d[i][0] )\n",
    "for j in J:\n",
    "    B=0\n",
    "    for i in I:\n",
    "        B += xij\n",
    "    cj = milp_model.addConstr(B >= d[j][0]-b[j][0] )\n",
    "            \n",
    "\n",
    "milp_model.optimize()"
   ]
  },
  {
   "cell_type": "code",
   "execution_count": 7,
   "id": "f2cc763c",
   "metadata": {},
   "outputs": [
    {
     "name": "stdout",
     "output_type": "stream",
     "text": [
      "C0 0.0\n",
      "C1 0.0\n",
      "C2 1.3333333333333333\n"
     ]
    }
   ],
   "source": [
    "for v in milp_model.getVars():\n",
    "    print(v.varName, v.x)"
   ]
  },
  {
   "cell_type": "code",
   "execution_count": 8,
   "id": "c5e83b3f",
   "metadata": {},
   "outputs": [
    {
     "data": {
      "text/plain": [
       "[0, 1, 2]"
      ]
     },
     "execution_count": 8,
     "metadata": {},
     "output_type": "execute_result"
    }
   ],
   "source": [
    "I"
   ]
  },
  {
   "cell_type": "code",
   "execution_count": 9,
   "id": "c55fba4a",
   "metadata": {},
   "outputs": [
    {
     "data": {
      "text/plain": [
       "[3]"
      ]
     },
     "execution_count": 9,
     "metadata": {},
     "output_type": "execute_result"
    }
   ],
   "source": [
    "J"
   ]
  },
  {
   "cell_type": "code",
   "execution_count": 93,
   "id": "52226c79",
   "metadata": {},
   "outputs": [
    {
     "data": {
      "text/plain": [
       "array([[9],\n",
       "       [8],\n",
       "       [8],\n",
       "       [5],\n",
       "       [7],\n",
       "       [3],\n",
       "       [4],\n",
       "       [9],\n",
       "       [9],\n",
       "       [7]])"
      ]
     },
     "execution_count": 93,
     "metadata": {},
     "output_type": "execute_result"
    }
   ],
   "source": [
    "b"
   ]
  },
  {
   "cell_type": "code",
   "execution_count": 94,
   "id": "61bfc531",
   "metadata": {},
   "outputs": [
    {
     "data": {
      "text/plain": [
       "array([[1],\n",
       "       [9],\n",
       "       [5],\n",
       "       [3],\n",
       "       [5],\n",
       "       [4],\n",
       "       [4],\n",
       "       [9],\n",
       "       [7],\n",
       "       [3]])"
      ]
     },
     "execution_count": 94,
     "metadata": {},
     "output_type": "execute_result"
    }
   ],
   "source": [
    "d"
   ]
  },
  {
   "cell_type": "code",
   "execution_count": 87,
   "id": "8589cec2",
   "metadata": {},
   "outputs": [
    {
     "data": {
      "text/plain": [
       "array([[4, 1, 4, 4],\n",
       "       [3, 2, 2, 2],\n",
       "       [2, 3, 1, 3],\n",
       "       [4, 1, 2, 2]])"
      ]
     },
     "execution_count": 87,
     "metadata": {},
     "output_type": "execute_result"
    }
   ],
   "source": [
    "C"
   ]
  },
  {
   "cell_type": "code",
   "execution_count": null,
   "id": "db445bb1",
   "metadata": {},
   "outputs": [],
   "source": [
    "x = milp_model.addVar(C.shape[0], C.shape[1], vtype=GRB.CONTINUOUS, name=\"x\")"
   ]
  },
  {
   "cell_type": "code",
   "execution_count": 24,
   "id": "533c394b",
   "metadata": {},
   "outputs": [
    {
     "name": "stdout",
     "output_type": "stream",
     "text": [
      "Gurobi Optimizer version 10.0.2 build v10.0.2rc0 (win64)\n",
      "\n",
      "CPU model: AMD Ryzen 5 3550H with Radeon Vega Mobile Gfx, instruction set [SSE2|AVX|AVX2]\n",
      "Thread count: 4 physical cores, 8 logical processors, using up to 8 threads\n",
      "\n",
      "Optimize a model with 4 rows, 3 columns and 4 nonzeros\n",
      "Model fingerprint: 0xce3dfe95\n",
      "Coefficient statistics:\n",
      "  Matrix range     [1e+00, 3e+00]\n",
      "  Objective range  [1e+01, 1e+01]\n",
      "  Bounds range     [0e+00, 0e+00]\n",
      "  RHS range        [4e+01, 8e+01]\n",
      "Presolve removed 4 rows and 3 columns\n",
      "Presolve time: 0.01s\n",
      "Presolve: All rows and columns removed\n",
      "Iteration    Objective       Primal Inf.    Dual Inf.      Time\n",
      "       0    0.0000000e+00   0.000000e+00   0.000000e+00      0s\n",
      "\n",
      "Solved in 0 iterations and 0.02 seconds (0.00 work units)\n",
      "Optimal objective  0.000000000e+00\n"
     ]
    }
   ],
   "source": [
    "for i in I:\n",
    "    for j in J:\n",
    "        xij = milp_model.addVar(vtype=GRB.CONTINUOUS, lb=0, name=\"xij\")\n",
    "\n",
    "obj_fn = sum(C[i,j]*xij for i in I for j in J)   \n",
    "milp_model.setObjective(obj_fn, GRB.MINIMIZE)\n",
    "\n",
    "A=0\n",
    "B=0    \n",
    "for i in I:\n",
    "    for j in J:\n",
    "        A += xij\n",
    "    ci = milp_model.addConstr(A <= b[i][0]-d[i][0], \"ci\" )\n",
    "for j in J:\n",
    "    for i in I:\n",
    "        B += xij\n",
    "    ci = milp_model.addConstr(B >= b[j][0]-d[j][0], \"cj\" )\n",
    "\n",
    "\n",
    "\n",
    "milp_model.optimize()"
   ]
  },
  {
   "cell_type": "code",
   "execution_count": 25,
   "id": "df3f41a0",
   "metadata": {},
   "outputs": [
    {
     "name": "stdout",
     "output_type": "stream",
     "text": [
      "xij 0.0\n",
      "xij 0.0\n",
      "xij 0.0\n"
     ]
    }
   ],
   "source": [
    "for v in milp_model.getVars():\n",
    "    print(v.varName, v.x)"
   ]
  },
  {
   "cell_type": "code",
   "execution_count": null,
   "id": "7fa2bdb0",
   "metadata": {},
   "outputs": [],
   "source": [
    "A=0\n",
    "B=0    \n",
    "for i in I:\n",
    "    for j in J:\n",
    "        A += xij\n",
    "    ci = milp_model.addConstr(A <= b[i][0]-d[i][0], \"ci\" )\n",
    "for j in J:\n",
    "    for i in I:\n",
    "        B += xij\n",
    "    ci = milp_model.addConstr(B <= b[j][0]-d[j][0], \"cj\" )"
   ]
  },
  {
   "cell_type": "code",
   "execution_count": 17,
   "id": "e5f6b0f4",
   "metadata": {},
   "outputs": [
    {
     "ename": "TypeError",
     "evalue": "unsupported operand type(s) for -: 'generator' and 'NoneType'",
     "output_type": "error",
     "traceback": [
      "\u001b[1;31m---------------------------------------------------------------------------\u001b[0m",
      "\u001b[1;31mTypeError\u001b[0m                                 Traceback (most recent call last)",
      "Input \u001b[1;32mIn [17]\u001b[0m, in \u001b[0;36m<cell line: 1>\u001b[1;34m()\u001b[0m\n\u001b[1;32m----> 1\u001b[0m c1 \u001b[38;5;241m=\u001b[39m \u001b[43mmilp_model\u001b[49m\u001b[38;5;241;43m.\u001b[39;49m\u001b[43maddConstr\u001b[49m\u001b[43m(\u001b[49m\u001b[43m(\u001b[49m\u001b[43m(\u001b[49m\u001b[38;5;28;43msum\u001b[39;49m\u001b[43m(\u001b[49m\u001b[43mxij\u001b[49m\u001b[43m)\u001b[49m\u001b[43m \u001b[49m\u001b[38;5;28;43;01mfor\u001b[39;49;00m\u001b[43m \u001b[49m\u001b[43mj\u001b[49m\u001b[43m \u001b[49m\u001b[38;5;129;43;01min\u001b[39;49;00m\u001b[43m \u001b[49m\u001b[43mJ\u001b[49m\u001b[43m)\u001b[49m\u001b[43m \u001b[49m\u001b[38;5;241;43m<\u001b[39;49m\u001b[38;5;241;43m=\u001b[39;49m\u001b[43m \u001b[49m\u001b[43m(\u001b[49m\u001b[43mb\u001b[49m\u001b[43m[\u001b[49m\u001b[43mi\u001b[49m\u001b[43m]\u001b[49m\u001b[43m[\u001b[49m\u001b[38;5;241;43m0\u001b[39;49m\u001b[43m]\u001b[49m\u001b[38;5;241;43m-\u001b[39;49m\u001b[43md\u001b[49m\u001b[43m[\u001b[49m\u001b[43mi\u001b[49m\u001b[43m]\u001b[49m\u001b[43m[\u001b[49m\u001b[38;5;241;43m0\u001b[39;49m\u001b[43m]\u001b[49m\u001b[43m)\u001b[49m\u001b[43m \u001b[49m\n\u001b[0;32m      2\u001b[0m \u001b[43m                          \u001b[49m\u001b[38;5;28;43;01mfor\u001b[39;49;00m\u001b[43m \u001b[49m\u001b[43mi\u001b[49m\u001b[43m \u001b[49m\u001b[38;5;129;43;01min\u001b[39;49;00m\u001b[43m \u001b[49m\u001b[43mI\u001b[49m\u001b[43m)\u001b[49m\u001b[43m,\u001b[49m\n\u001b[0;32m      3\u001b[0m \u001b[43m                          \u001b[49m\u001b[38;5;124;43m\"\u001b[39;49m\u001b[38;5;124;43mc1\u001b[39;49m\u001b[38;5;124;43m\"\u001b[39;49m\u001b[43m)\u001b[49m\n\u001b[0;32m      5\u001b[0m c2 \u001b[38;5;241m=\u001b[39m milp_model\u001b[38;5;241m.\u001b[39maddConstr(((\u001b[38;5;28msum\u001b[39m(xij) \u001b[38;5;28;01mfor\u001b[39;00m i \u001b[38;5;129;01min\u001b[39;00m I) \u001b[38;5;241m>\u001b[39m\u001b[38;5;241m=\u001b[39m (d[j][\u001b[38;5;241m0\u001b[39m]\u001b[38;5;241m-\u001b[39mb[j][\u001b[38;5;241m0\u001b[39m]) \n\u001b[0;32m      6\u001b[0m                           \u001b[38;5;28;01mfor\u001b[39;00m j \u001b[38;5;129;01min\u001b[39;00m J),\n\u001b[0;32m      7\u001b[0m                           \u001b[38;5;124m\"\u001b[39m\u001b[38;5;124mc2\u001b[39m\u001b[38;5;124m\"\u001b[39m)\n",
      "File \u001b[1;32msrc\\gurobipy\\model.pxi:3671\u001b[0m, in \u001b[0;36mgurobipy.Model.addConstr\u001b[1;34m()\u001b[0m\n",
      "\u001b[1;31mTypeError\u001b[0m: unsupported operand type(s) for -: 'generator' and 'NoneType'"
     ]
    }
   ],
   "source": [
    "c1 = milp_model.addConstr(((sum(xij) for j in J) <= (b[i][0]-d[i][0]) \n",
    "                          for i in I),\n",
    "                          \"c1\")\n",
    "\n",
    "c2 = milp_model.addConstr(((sum(xij) for i in I) >= (d[j][0]-b[j][0]) \n",
    "                          for j in J),\n",
    "                          \"c2\")"
   ]
  },
  {
   "cell_type": "code",
   "execution_count": 14,
   "id": "e5ad4c16",
   "metadata": {},
   "outputs": [
    {
     "ename": "NameError",
     "evalue": "name 'x02' is not defined",
     "output_type": "error",
     "traceback": [
      "\u001b[1;31m---------------------------------------------------------------------------\u001b[0m",
      "\u001b[1;31mNameError\u001b[0m                                 Traceback (most recent call last)",
      "Input \u001b[1;32mIn [14]\u001b[0m, in \u001b[0;36m<cell line: 1>\u001b[1;34m()\u001b[0m\n\u001b[1;32m----> 1\u001b[0m \u001b[43mx02\u001b[49m\u001b[38;5;241m.\u001b[39mx\n",
      "\u001b[1;31mNameError\u001b[0m: name 'x02' is not defined"
     ]
    }
   ],
   "source": [
    "x02.x"
   ]
  },
  {
   "cell_type": "code",
   "execution_count": 70,
   "id": "da57332e",
   "metadata": {},
   "outputs": [
    {
     "name": "stdout",
     "output_type": "stream",
     "text": [
      "1 3\n",
      "2 3\n"
     ]
    }
   ],
   "source": [
    "for i in I:\n",
    "    for j in J:\n",
    "        print(i,j)"
   ]
  }
 ],
 "metadata": {
  "kernelspec": {
   "display_name": "Python 3 (ipykernel)",
   "language": "python",
   "name": "python3"
  },
  "language_info": {
   "codemirror_mode": {
    "name": "ipython",
    "version": 3
   },
   "file_extension": ".py",
   "mimetype": "text/x-python",
   "name": "python",
   "nbconvert_exporter": "python",
   "pygments_lexer": "ipython3",
   "version": "3.9.12"
  }
 },
 "nbformat": 4,
 "nbformat_minor": 5
}
